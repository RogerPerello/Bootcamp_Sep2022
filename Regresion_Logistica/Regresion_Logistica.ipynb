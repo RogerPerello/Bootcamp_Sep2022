{
 "cells": [
  {
   "cell_type": "code",
   "execution_count": 1,
   "metadata": {},
   "outputs": [],
   "source": [
    "## Regresión Logística"
   ]
  },
  {
   "cell_type": "code",
   "execution_count": 2,
   "metadata": {},
   "outputs": [],
   "source": [
    "## Librerias \n",
    "import pandas as pd\n",
    "import numpy as np\n",
    "import os\n",
    "from sklearn.linear_model import LogisticRegression"
   ]
  },
  {
   "cell_type": "code",
   "execution_count": 3,
   "metadata": {},
   "outputs": [],
   "source": [
    "from sklearn.datasets import make_classification"
   ]
  },
  {
   "cell_type": "code",
   "execution_count": 7,
   "metadata": {},
   "outputs": [],
   "source": [
    "X,y=make_classification(n_samples=1000)"
   ]
  },
  {
   "cell_type": "code",
   "execution_count": 8,
   "metadata": {},
   "outputs": [],
   "source": [
    "from sklearn.model_selection import train_test_split"
   ]
  },
  {
   "cell_type": "code",
   "execution_count": 9,
   "metadata": {},
   "outputs": [],
   "source": [
    "X_train,X_test,y_train,y_test=train_test_split(X,y,train_size=0.7,random_state=1234)"
   ]
  },
  {
   "cell_type": "code",
   "execution_count": 10,
   "metadata": {},
   "outputs": [],
   "source": [
    "lg=LogisticRegression()"
   ]
  },
  {
   "cell_type": "code",
   "execution_count": 11,
   "metadata": {},
   "outputs": [
    {
     "data": {
      "text/plain": [
       "LogisticRegression()"
      ]
     },
     "execution_count": 11,
     "metadata": {},
     "output_type": "execute_result"
    }
   ],
   "source": [
    "lg.fit(X_train,y_train)"
   ]
  },
  {
   "cell_type": "code",
   "execution_count": 12,
   "metadata": {},
   "outputs": [
    {
     "data": {
      "text/plain": [
       "array([0, 0, 1, 0, 0, 0, 1, 1, 1, 0, 1, 0, 0, 0, 1, 1, 0, 0, 0, 0, 1, 1,\n",
       "       0, 0, 0, 0, 1, 0, 1, 0, 1, 0, 0, 0, 1, 0, 0, 0, 0, 0, 1, 0, 0, 0,\n",
       "       0, 1, 1, 0, 1, 1, 0, 0, 0, 1, 1, 1, 1, 0, 0, 1, 0, 0, 0, 1, 0, 0,\n",
       "       0, 0, 0, 1, 0, 1, 0, 0, 0, 1, 0, 0, 0, 0, 0, 0, 0, 0, 0, 0, 0, 0,\n",
       "       1, 0, 0, 1, 0, 0, 1, 0, 1, 1, 1, 1, 1, 0, 1, 0, 1, 0, 1, 0, 0, 0,\n",
       "       1, 0, 1, 0, 0, 1, 1, 1, 0, 1, 0, 0, 0, 0, 0, 0, 1, 1, 0, 0, 1, 0,\n",
       "       0, 1, 0, 0, 0, 0, 0, 1, 0, 0, 1, 0, 0, 1, 1, 1, 1, 1, 1, 1, 1, 1,\n",
       "       0, 0, 1, 0, 0, 1, 1, 0, 1, 1, 0, 0, 0, 0, 0, 1, 1, 1, 1, 0, 0, 0,\n",
       "       0, 1, 1, 0, 1, 1, 1, 0, 0, 0, 0, 0, 0, 0, 1, 0, 0, 0, 1, 0, 1, 1,\n",
       "       0, 0, 0, 0, 0, 0, 0, 0, 1, 0, 1, 1, 1, 0, 0, 1, 1, 0, 1, 1, 0, 0,\n",
       "       1, 0, 0, 1, 0, 1, 1, 0, 0, 1, 0, 0, 1, 1, 0, 1, 1, 1, 0, 0, 1, 0,\n",
       "       1, 1, 1, 1, 1, 1, 1, 1, 1, 0, 1, 1, 0, 0, 1, 0, 0, 1, 1, 1, 0, 1,\n",
       "       0, 0, 0, 1, 0, 0, 1, 0, 0, 1, 0, 0, 1, 1, 1, 1, 0, 0, 1, 1, 0, 1,\n",
       "       1, 1, 1, 1, 1, 1, 1, 1, 0, 1, 0, 1, 0, 1])"
      ]
     },
     "execution_count": 12,
     "metadata": {},
     "output_type": "execute_result"
    }
   ],
   "source": [
    "lg.predict(X_test)"
   ]
  },
  {
   "cell_type": "code",
   "execution_count": 15,
   "metadata": {},
   "outputs": [],
   "source": [
    "from sklearn.metrics import accuracy_score,recall_score,precision_score,f1_score, confusion_matrix"
   ]
  },
  {
   "cell_type": "code",
   "execution_count": 20,
   "metadata": {},
   "outputs": [
    {
     "data": {
      "text/plain": [
       "<AxesSubplot:>"
      ]
     },
     "execution_count": 20,
     "metadata": {},
     "output_type": "execute_result"
    },
    {
     "data": {
      "image/png": "[encoded data removed]",
      "text/plain": [
       "<Figure size 432x288 with 2 Axes>"
      ]
     },
     "metadata": {
      "needs_background": "light"
     },
     "output_type": "display_data"
    }
   ],
   "source": [
    "import seaborn as sns\n",
    "sns.heatmap(confusion_matrix(y_test,lg.predict(X_test)),annot=True)"
   ]
  },
  {
   "cell_type": "code",
   "execution_count": 21,
   "metadata": {},
   "outputs": [
    {
     "data": {
      "text/plain": [
       "0.87"
      ]
     },
     "execution_count": 21,
     "metadata": {},
     "output_type": "execute_result"
    }
   ],
   "source": [
    "accuracy_score(y_test,lg.predict(X_test))"
   ]
  },
  {
   "cell_type": "code",
   "execution_count": 22,
   "metadata": {},
   "outputs": [
    {
     "data": {
      "text/plain": [
       "0.8133333333333334"
      ]
     },
     "execution_count": 22,
     "metadata": {},
     "output_type": "execute_result"
    }
   ],
   "source": [
    "recall_score(y_test,lg.predict(X_test))"
   ]
  },
  {
   "cell_type": "code",
   "execution_count": 23,
   "metadata": {},
   "outputs": [
    {
     "data": {
      "text/plain": [
       "0.9172932330827067"
      ]
     },
     "execution_count": 23,
     "metadata": {},
     "output_type": "execute_result"
    }
   ],
   "source": [
    "precision_score(y_test,lg.predict(X_test))"
   ]
  },
  {
   "cell_type": "code",
   "execution_count": 24,
   "metadata": {},
   "outputs": [
    {
     "data": {
      "text/plain": [
       "0.862190812720848"
      ]
     },
     "execution_count": 24,
     "metadata": {},
     "output_type": "execute_result"
    }
   ],
   "source": [
    "f1_score(y_test,lg.predict(X_test))"
   ]
  },
  {
   "cell_type": "code",
   "execution_count": 25,
   "metadata": {},
   "outputs": [],
   "source": [
    "from sklearn.metrics import roc_auc_score, roc_curve"
   ]
  },
  {
   "cell_type": "code",
   "execution_count": 26,
   "metadata": {},
   "outputs": [
    {
     "data": {
      "text/plain": [
       "0.87"
      ]
     },
     "execution_count": 26,
     "metadata": {},
     "output_type": "execute_result"
    }
   ],
   "source": [
    "roc_auc_score(y_test,lg.predict(X_test))"
   ]
  },
  {
   "cell_type": "code",
   "execution_count": 33,
   "metadata": {},
   "outputs": [],
   "source": [
    "a,b,c=roc_curve(y_test,lg.predict(X_test))"
   ]
  },
  {
   "cell_type": "code",
   "execution_count": 30,
   "metadata": {},
   "outputs": [],
   "source": [
    "probailidades=[0 for _ in range(len(y_test))]"
   ]
  },
  {
   "cell_type": "code",
   "execution_count": 32,
   "metadata": {},
   "outputs": [],
   "source": [
    "a1,b1,c1=roc_curve(y_test,probailidades)"
   ]
  },
  {
   "cell_type": "code",
   "execution_count": 35,
   "metadata": {},
   "outputs": [],
   "source": [
    "import matplotlib.pyplot as plt"
   ]
  },
  {
   "cell_type": "code",
   "execution_count": 42,
   "metadata": {},
   "outputs": [
    {
     "data": {
      "image/png": "[encoded data removed]",
      "text/plain": [
       "<Figure size 432x288 with 1 Axes>"
      ]
     },
     "metadata": {
      "needs_background": "light"
     },
     "output_type": "display_data"
    }
   ],
   "source": [
    "plt.plot(a1,b1)\n",
    "plt.plot(a,b)\n",
    "plt.xlabel(\"Tasa de falsos positivos\")\n",
    "plt.ylabel(\"Tasa de verdaderos positivos\");"
   ]
  },
  {
   "cell_type": "code",
   "execution_count": 43,
   "metadata": {},
   "outputs": [],
   "source": [
    "lg01=LogisticRegression(C=0.1)"
   ]
  },
  {
   "cell_type": "code",
   "execution_count": 44,
   "metadata": {},
   "outputs": [
    {
     "data": {
      "text/plain": [
       "array([0, 0, 1, 0, 0, 0, 1, 1, 1, 0, 1, 0, 0, 0, 1, 1, 0, 0, 0, 0, 1, 1,\n",
       "       0, 0, 0, 0, 1, 0, 1, 0, 1, 0, 0, 0, 1, 0, 0, 0, 0, 0, 1, 0, 0, 0,\n",
       "       0, 1, 1, 0, 1, 1, 0, 0, 0, 1, 1, 1, 1, 0, 0, 1, 0, 0, 0, 1, 0, 0,\n",
       "       0, 0, 0, 1, 0, 1, 0, 0, 0, 1, 0, 0, 0, 0, 0, 0, 0, 0, 0, 0, 0, 0,\n",
       "       1, 0, 0, 1, 0, 0, 1, 0, 1, 1, 1, 1, 1, 0, 1, 0, 1, 0, 1, 0, 0, 0,\n",
       "       1, 0, 1, 0, 0, 1, 1, 1, 0, 1, 0, 0, 0, 0, 0, 0, 1, 1, 0, 0, 1, 0,\n",
       "       0, 1, 0, 0, 0, 0, 0, 1, 0, 0, 1, 0, 0, 1, 1, 1, 1, 1, 1, 1, 1, 1,\n",
       "       0, 0, 1, 0, 0, 1, 1, 0, 1, 1, 0, 0, 0, 0, 0, 1, 1, 1, 1, 0, 0, 0,\n",
       "       0, 1, 1, 0, 1, 0, 1, 0, 0, 0, 0, 0, 0, 0, 1, 0, 0, 0, 1, 0, 1, 1,\n",
       "       0, 0, 0, 0, 0, 0, 0, 0, 1, 0, 1, 1, 1, 0, 0, 1, 1, 0, 1, 1, 0, 0,\n",
       "       1, 0, 0, 1, 0, 1, 1, 0, 0, 1, 0, 0, 1, 1, 0, 1, 1, 1, 0, 0, 1, 0,\n",
       "       1, 1, 1, 1, 1, 1, 1, 1, 1, 0, 1, 1, 0, 0, 1, 0, 0, 1, 1, 1, 0, 1,\n",
       "       0, 0, 0, 1, 0, 0, 1, 0, 0, 1, 0, 0, 1, 1, 1, 1, 0, 0, 1, 0, 0, 1,\n",
       "       1, 1, 1, 1, 1, 1, 1, 1, 0, 1, 0, 1, 0, 1])"
      ]
     },
     "execution_count": 44,
     "metadata": {},
     "output_type": "execute_result"
    }
   ],
   "source": [
    "lg01.fit(X_train,y_train)\n",
    "lg01.predict(X_test)"
   ]
  },
  {
   "cell_type": "code",
   "execution_count": 45,
   "metadata": {},
   "outputs": [
    {
     "data": {
      "text/plain": [
       "array([[9.77902005e-01, 2.20979947e-02],\n",
       "       [8.44075029e-01, 1.55924971e-01],\n",
       "       [5.99640175e-02, 9.40035983e-01],\n",
       "       [9.99251742e-01, 7.48257854e-04],\n",
       "       [6.17332232e-01, 3.82667768e-01],\n",
       "       [9.03001770e-01, 9.69982299e-02],\n",
       "       [3.44577674e-03, 9.96554223e-01],\n",
       "       [6.31041374e-04, 9.99368959e-01],\n",
       "       [8.81828062e-02, 9.11817194e-01],\n",
       "       [6.70449701e-01, 3.29550299e-01],\n",
       "       [6.59438557e-02, 9.34056144e-01],\n",
       "       [9.67715237e-01, 3.22847626e-02],\n",
       "       [7.40397475e-01, 2.59602525e-01],\n",
       "       [9.95756176e-01, 4.24382361e-03],\n",
       "       [1.92135233e-01, 8.07864767e-01],\n",
       "       [8.31840181e-02, 9.16815982e-01],\n",
       "       [9.51170507e-01, 4.88294927e-02],\n",
       "       [6.09276015e-01, 3.90723985e-01],\n",
       "       [5.79980355e-01, 4.20019645e-01],\n",
       "       [9.26560098e-01, 7.34399021e-02],\n",
       "       [3.98338272e-01, 6.01661728e-01],\n",
       "       [6.47621909e-02, 9.35237809e-01],\n",
       "       [8.79421269e-01, 1.20578731e-01],\n",
       "       [9.57732584e-01, 4.22674162e-02],\n",
       "       [9.65199218e-01, 3.48007817e-02],\n",
       "       [9.56962402e-01, 4.30375979e-02],\n",
       "       [9.59895257e-02, 9.04010474e-01],\n",
       "       [9.69061281e-01, 3.09387194e-02],\n",
       "       [6.17020598e-02, 9.38297940e-01],\n",
       "       [9.51157069e-01, 4.88429307e-02],\n",
       "       [3.95554750e-02, 9.60444525e-01],\n",
       "       [8.42031293e-01, 1.57968707e-01],\n",
       "       [9.98376726e-01, 1.62327365e-03],\n",
       "       [5.01259765e-01, 4.98740235e-01],\n",
       "       [4.01829908e-02, 9.59817009e-01],\n",
       "       [9.99427103e-01, 5.72896821e-04],\n",
       "       [9.73935417e-01, 2.60645832e-02],\n",
       "       [8.56172151e-01, 1.43827849e-01],\n",
       "       [9.63227944e-01, 3.67720561e-02],\n",
       "       [9.68100675e-01, 3.18993248e-02],\n",
       "       [3.13950550e-01, 6.86049450e-01],\n",
       "       [9.04352038e-01, 9.56479617e-02],\n",
       "       [9.91793637e-01, 8.20636256e-03],\n",
       "       [9.93368969e-01, 6.63103069e-03],\n",
       "       [9.72245965e-01, 2.77540346e-02],\n",
       "       [1.52169147e-01, 8.47830853e-01],\n",
       "       [7.03332408e-02, 9.29666759e-01],\n",
       "       [9.66580749e-01, 3.34192508e-02],\n",
       "       [1.77122550e-01, 8.22877450e-01],\n",
       "       [4.86579664e-01, 5.13420336e-01],\n",
       "       [6.37995688e-01, 3.62004312e-01],\n",
       "       [8.53083446e-01, 1.46916554e-01],\n",
       "       [7.02874243e-01, 2.97125757e-01],\n",
       "       [9.32126111e-02, 9.06787389e-01],\n",
       "       [6.87471116e-02, 9.31252888e-01],\n",
       "       [8.03939044e-02, 9.19606096e-01],\n",
       "       [2.51119093e-01, 7.48880907e-01],\n",
       "       [9.98791505e-01, 1.20849469e-03],\n",
       "       [6.67962461e-01, 3.32037539e-01],\n",
       "       [8.88198773e-02, 9.11180123e-01],\n",
       "       [9.36034010e-01, 6.39659896e-02],\n",
       "       [9.84703056e-01, 1.52969444e-02],\n",
       "       [9.95525229e-01, 4.47477101e-03],\n",
       "       [3.71913492e-02, 9.62808651e-01],\n",
       "       [9.94194848e-01, 5.80515204e-03],\n",
       "       [8.94595675e-01, 1.05404325e-01],\n",
       "       [9.89182630e-01, 1.08173705e-02],\n",
       "       [8.77661107e-01, 1.22338893e-01],\n",
       "       [9.78160936e-01, 2.18390639e-02],\n",
       "       [7.43785626e-03, 9.92562144e-01],\n",
       "       [9.13065518e-01, 8.69344820e-02],\n",
       "       [8.33585177e-02, 9.16641482e-01],\n",
       "       [9.98465860e-01, 1.53414005e-03],\n",
       "       [6.52643900e-01, 3.47356100e-01],\n",
       "       [9.98177775e-01, 1.82222533e-03],\n",
       "       [5.00457703e-02, 9.49954230e-01],\n",
       "       [9.90927899e-01, 9.07210122e-03],\n",
       "       [8.75595136e-01, 1.24404864e-01],\n",
       "       [6.80757336e-01, 3.19242664e-01],\n",
       "       [9.83843488e-01, 1.61565124e-02],\n",
       "       [9.94463947e-01, 5.53605265e-03],\n",
       "       [7.34511416e-01, 2.65488584e-01],\n",
       "       [8.84866821e-01, 1.15133179e-01],\n",
       "       [9.62891990e-01, 3.71080097e-02],\n",
       "       [9.62652465e-01, 3.73475352e-02],\n",
       "       [6.87530201e-01, 3.12469799e-01],\n",
       "       [5.94245996e-01, 4.05754004e-01],\n",
       "       [9.84293504e-01, 1.57064958e-02],\n",
       "       [3.85245256e-01, 6.14754744e-01],\n",
       "       [7.06697088e-01, 2.93302912e-01],\n",
       "       [8.79465371e-01, 1.20534629e-01],\n",
       "       [4.96718769e-01, 5.03281231e-01],\n",
       "       [5.92306503e-01, 4.07693497e-01],\n",
       "       [9.60496025e-01, 3.95039747e-02],\n",
       "       [1.72798002e-01, 8.27201998e-01],\n",
       "       [5.35316628e-01, 4.64683372e-01],\n",
       "       [3.13801445e-01, 6.86198555e-01],\n",
       "       [5.39421025e-02, 9.46057898e-01],\n",
       "       [1.14284093e-02, 9.88571591e-01],\n",
       "       [3.52456726e-01, 6.47543274e-01],\n",
       "       [4.72359492e-02, 9.52764051e-01],\n",
       "       [9.98977987e-01, 1.02201305e-03],\n",
       "       [5.98426243e-02, 9.40157376e-01],\n",
       "       [6.23788705e-01, 3.76211295e-01],\n",
       "       [5.98214970e-02, 9.40178503e-01],\n",
       "       [9.86155599e-01, 1.38444014e-02],\n",
       "       [5.06080407e-02, 9.49391959e-01],\n",
       "       [9.84874247e-01, 1.51257531e-02],\n",
       "       [5.64284045e-01, 4.35715955e-01],\n",
       "       [9.73960764e-01, 2.60392359e-02],\n",
       "       [4.82596448e-01, 5.17403552e-01],\n",
       "       [9.74230309e-01, 2.57696906e-02],\n",
       "       [6.29408267e-02, 9.37059173e-01],\n",
       "       [9.66883456e-01, 3.31165435e-02],\n",
       "       [9.12387146e-01, 8.76128538e-02],\n",
       "       [9.42758275e-02, 9.05724172e-01],\n",
       "       [6.77400480e-02, 9.32259952e-01],\n",
       "       [5.82486020e-02, 9.41751398e-01],\n",
       "       [9.76861218e-01, 2.31387824e-02],\n",
       "       [5.71558205e-03, 9.94284418e-01],\n",
       "       [7.83162638e-01, 2.16837362e-01],\n",
       "       [9.94377218e-01, 5.62278222e-03],\n",
       "       [7.33394462e-01, 2.66605538e-01],\n",
       "       [9.44577820e-01, 5.54221800e-02],\n",
       "       [5.95597521e-01, 4.04402479e-01],\n",
       "       [9.46060227e-01, 5.39397727e-02],\n",
       "       [2.55558599e-02, 9.74444140e-01],\n",
       "       [5.57680642e-02, 9.44231936e-01],\n",
       "       [8.26977210e-01, 1.73022790e-01],\n",
       "       [6.68803978e-01, 3.31196022e-01],\n",
       "       [8.58522157e-02, 9.14147784e-01],\n",
       "       [8.39393362e-01, 1.60606638e-01],\n",
       "       [9.92331410e-01, 7.66859023e-03],\n",
       "       [1.21845743e-01, 8.78154257e-01],\n",
       "       [9.88377838e-01, 1.16221619e-02],\n",
       "       [9.49725364e-01, 5.02746363e-02],\n",
       "       [9.57598990e-01, 4.24010098e-02],\n",
       "       [8.10629108e-01, 1.89370892e-01],\n",
       "       [9.74273387e-01, 2.57266126e-02],\n",
       "       [7.35803001e-02, 9.26419700e-01],\n",
       "       [9.72772912e-01, 2.72270883e-02],\n",
       "       [9.84078617e-01, 1.59213827e-02],\n",
       "       [5.71589793e-02, 9.42841021e-01],\n",
       "       [9.04389228e-01, 9.56107718e-02],\n",
       "       [9.22736011e-01, 7.72639889e-02],\n",
       "       [6.24120072e-02, 9.37587993e-01],\n",
       "       [8.02191531e-02, 9.19780847e-01],\n",
       "       [6.66130358e-02, 9.33386964e-01],\n",
       "       [6.71126389e-02, 9.32887361e-01],\n",
       "       [6.79629915e-02, 9.32037008e-01],\n",
       "       [8.75170191e-02, 9.12482981e-01],\n",
       "       [7.32940474e-02, 9.26705953e-01],\n",
       "       [5.75097325e-02, 9.42490267e-01],\n",
       "       [5.58762795e-02, 9.44123721e-01],\n",
       "       [9.90742913e-01, 9.25708680e-03],\n",
       "       [9.67336576e-01, 3.26634240e-02],\n",
       "       [7.04643083e-02, 9.29535692e-01],\n",
       "       [9.63904270e-01, 3.60957302e-02],\n",
       "       [9.95955584e-01, 4.04441553e-03],\n",
       "       [6.91385943e-02, 9.30861406e-01],\n",
       "       [6.57084018e-02, 9.34291598e-01],\n",
       "       [8.00986302e-01, 1.99013698e-01],\n",
       "       [2.30276802e-01, 7.69723198e-01],\n",
       "       [8.33360946e-02, 9.16663905e-01],\n",
       "       [9.91155180e-01, 8.84482048e-03],\n",
       "       [9.99458911e-01, 5.41089432e-04],\n",
       "       [9.95414770e-01, 4.58522978e-03],\n",
       "       [7.78644983e-01, 2.21355017e-01],\n",
       "       [7.79736742e-01, 2.20263258e-01],\n",
       "       [6.49522091e-02, 9.35047791e-01],\n",
       "       [2.93461472e-01, 7.06538528e-01],\n",
       "       [2.70287750e-01, 7.29712250e-01],\n",
       "       [9.48567138e-02, 9.05143286e-01],\n",
       "       [9.96537170e-01, 3.46283001e-03],\n",
       "       [6.62024904e-01, 3.37975096e-01],\n",
       "       [7.17941487e-01, 2.82058513e-01],\n",
       "       [8.89089710e-01, 1.10910290e-01],\n",
       "       [6.61120808e-02, 9.33887919e-01],\n",
       "       [5.78242046e-03, 9.94217580e-01],\n",
       "       [9.60698618e-01, 3.93013825e-02],\n",
       "       [1.37830798e-02, 9.86216920e-01],\n",
       "       [5.06805814e-01, 4.93194186e-01],\n",
       "       [3.01320079e-02, 9.69867992e-01],\n",
       "       [9.91245613e-01, 8.75438730e-03],\n",
       "       [8.32964269e-01, 1.67035731e-01],\n",
       "       [9.98738660e-01, 1.26134023e-03],\n",
       "       [9.57435917e-01, 4.25640826e-02],\n",
       "       [9.96190426e-01, 3.80957351e-03],\n",
       "       [7.37590720e-01, 2.62409280e-01],\n",
       "       [8.58142688e-01, 1.41857312e-01],\n",
       "       [4.71769135e-01, 5.28230865e-01],\n",
       "       [7.02942158e-01, 2.97057842e-01],\n",
       "       [9.79019969e-01, 2.09800310e-02],\n",
       "       [8.65265836e-01, 1.34734164e-01],\n",
       "       [5.80635905e-02, 9.41936410e-01],\n",
       "       [9.70455398e-01, 2.95446025e-02],\n",
       "       [6.72851839e-02, 9.32714816e-01],\n",
       "       [8.91114427e-02, 9.10888557e-01],\n",
       "       [9.97849667e-01, 2.15033348e-03],\n",
       "       [8.82609435e-01, 1.17390565e-01],\n",
       "       [9.60949679e-01, 3.90503214e-02],\n",
       "       [9.91138249e-01, 8.86175070e-03],\n",
       "       [8.85719899e-01, 1.14280101e-01],\n",
       "       [9.72200574e-01, 2.77994258e-02],\n",
       "       [7.50574806e-01, 2.49425194e-01],\n",
       "       [6.10987706e-01, 3.89012294e-01],\n",
       "       [3.34273106e-01, 6.65726894e-01],\n",
       "       [9.88603587e-01, 1.13964128e-02],\n",
       "       [1.31792569e-01, 8.68207431e-01],\n",
       "       [7.93805555e-02, 9.20619444e-01],\n",
       "       [1.02249834e-01, 8.97750166e-01],\n",
       "       [9.79660594e-01, 2.03394056e-02],\n",
       "       [9.15964013e-01, 8.40359865e-02],\n",
       "       [9.93671381e-02, 9.00632862e-01],\n",
       "       [5.25586933e-02, 9.47441307e-01],\n",
       "       [9.77964499e-01, 2.20355010e-02],\n",
       "       [2.03074746e-01, 7.96925254e-01],\n",
       "       [1.67874107e-01, 8.32125893e-01],\n",
       "       [5.47608669e-01, 4.52391331e-01],\n",
       "       [9.87452413e-01, 1.25475873e-02],\n",
       "       [8.53103769e-02, 9.14689623e-01],\n",
       "       [8.06386796e-01, 1.93613204e-01],\n",
       "       [9.20620411e-01, 7.93795894e-02],\n",
       "       [7.55777169e-02, 9.24422283e-01],\n",
       "       [9.13485178e-01, 8.65148215e-02],\n",
       "       [2.17220589e-02, 9.78277941e-01],\n",
       "       [2.14835609e-01, 7.85164391e-01],\n",
       "       [9.97743911e-01, 2.25608891e-03],\n",
       "       [7.18403241e-01, 2.81596759e-01],\n",
       "       [1.51759453e-02, 9.84824055e-01],\n",
       "       [9.19782846e-01, 8.02171538e-02],\n",
       "       [9.91423658e-01, 8.57634195e-03],\n",
       "       [9.18504538e-02, 9.08149546e-01],\n",
       "       [2.68856848e-01, 7.31143152e-01],\n",
       "       [8.94154762e-01, 1.05845238e-01],\n",
       "       [7.32958205e-02, 9.26704179e-01],\n",
       "       [6.38512650e-02, 9.36148735e-01],\n",
       "       [3.93905547e-01, 6.06094453e-01],\n",
       "       [9.29524665e-01, 7.04753353e-02],\n",
       "       [5.78149872e-01, 4.21850128e-01],\n",
       "       [1.01107398e-02, 9.89889260e-01],\n",
       "       [8.96427562e-01, 1.03572438e-01],\n",
       "       [7.67769255e-03, 9.92322307e-01],\n",
       "       [8.35191518e-02, 9.16480848e-01],\n",
       "       [1.08843783e-02, 9.89115622e-01],\n",
       "       [7.69371194e-02, 9.23062881e-01],\n",
       "       [1.03549415e-01, 8.96450585e-01],\n",
       "       [2.24106728e-01, 7.75893272e-01],\n",
       "       [7.15381350e-02, 9.28461865e-01],\n",
       "       [2.84733002e-02, 9.71526700e-01],\n",
       "       [6.78091518e-02, 9.32190848e-01],\n",
       "       [9.32655473e-01, 6.73445269e-02],\n",
       "       [7.45885509e-02, 9.25411449e-01],\n",
       "       [4.37398973e-01, 5.62601027e-01],\n",
       "       [9.83365641e-01, 1.66343589e-02],\n",
       "       [5.57643728e-01, 4.42356272e-01],\n",
       "       [6.86844570e-03, 9.93131554e-01],\n",
       "       [9.04160314e-01, 9.58396856e-02],\n",
       "       [5.10738368e-01, 4.89261632e-01],\n",
       "       [6.58407692e-02, 9.34159231e-01],\n",
       "       [8.26035238e-02, 9.17396476e-01],\n",
       "       [4.37839769e-02, 9.56216023e-01],\n",
       "       [9.23120828e-01, 7.68791723e-02],\n",
       "       [2.30355099e-02, 9.76964490e-01],\n",
       "       [7.50605957e-01, 2.49394043e-01],\n",
       "       [8.85707732e-01, 1.14292268e-01],\n",
       "       [8.49338797e-01, 1.50661203e-01],\n",
       "       [8.19240005e-02, 9.18075999e-01],\n",
       "       [7.91341999e-01, 2.08658001e-01],\n",
       "       [6.34996151e-01, 3.65003849e-01],\n",
       "       [1.00914746e-01, 8.99085254e-01],\n",
       "       [5.23894587e-01, 4.76105413e-01],\n",
       "       [9.34355809e-01, 6.56441914e-02],\n",
       "       [2.58841908e-01, 7.41158092e-01],\n",
       "       [9.85753347e-01, 1.42466528e-02],\n",
       "       [5.76914277e-01, 4.23085723e-01],\n",
       "       [5.06110844e-02, 9.49388916e-01],\n",
       "       [8.27108926e-02, 9.17289107e-01],\n",
       "       [5.92360191e-02, 9.40763981e-01],\n",
       "       [5.27223247e-02, 9.47277675e-01],\n",
       "       [9.88527083e-01, 1.14729171e-02],\n",
       "       [6.78019209e-01, 3.21980791e-01],\n",
       "       [4.37432534e-01, 5.62567466e-01],\n",
       "       [5.08323249e-01, 4.91676751e-01],\n",
       "       [6.46225646e-01, 3.53774354e-01],\n",
       "       [9.05391332e-02, 9.09460867e-01],\n",
       "       [7.03954955e-02, 9.29604505e-01],\n",
       "       [1.18834872e-02, 9.88116513e-01],\n",
       "       [4.91015242e-01, 5.08984758e-01],\n",
       "       [5.32615713e-02, 9.46738429e-01],\n",
       "       [4.46524080e-02, 9.55347592e-01],\n",
       "       [7.95344494e-02, 9.20465551e-01],\n",
       "       [3.34112369e-01, 6.65887631e-01],\n",
       "       [7.51903178e-02, 9.24809682e-01],\n",
       "       [6.69583478e-01, 3.30416522e-01],\n",
       "       [2.62941613e-01, 7.37058387e-01],\n",
       "       [9.68421789e-01, 3.15782109e-02],\n",
       "       [9.47317694e-02, 9.05268231e-01],\n",
       "       [8.83032024e-01, 1.16967976e-01],\n",
       "       [1.26109350e-01, 8.73890650e-01]])"
      ]
     },
     "execution_count": 45,
     "metadata": {},
     "output_type": "execute_result"
    }
   ],
   "source": [
    "lg01.predict_proba(X_test)"
   ]
  },
  {
   "cell_type": "code",
   "execution_count": null,
   "metadata": {},
   "outputs": [],
   "source": []
  }
 ],
 "metadata": {
  "kernelspec": {
   "display_name": "base",
   "language": "python",
   "name": "python3"
  },
  "language_info": {
   "codemirror_mode": {
    "name": "ipython",
    "version": 3
   },
   "file_extension": ".py",
   "mimetype": "text/x-python",
   "name": "python",
   "nbconvert_exporter": "python",
   "pygments_lexer": "ipython3",
   "version": "3.9.12"
  },
  "orig_nbformat": 4,
  "vscode": {
   "interpreter": {
    "hash": "93b270aff94e38196a98effae74ed121e7c4be36a010106ff9b6f6d47d6f1709"
   }
  }
 },
 "nbformat": 4,
 "nbformat_minor": 2
}
